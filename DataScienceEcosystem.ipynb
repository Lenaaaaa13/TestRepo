{
 "cells": [
  {
   "cell_type": "markdown",
   "id": "2048a33d-3a6d-4284-a686-427b6bc83c7e",
   "metadata": {},
   "source": [
    "# Data Science Tools and Ecosystem"
   ]
  },
  {
   "cell_type": "markdown",
   "id": "b1903566-c69c-45b7-a04d-9bb7f0026408",
   "metadata": {},
   "source": [
    "In this notebook, Data Science Tools and Ecosystem are summarized."
   ]
  },
  {
   "cell_type": "markdown",
   "id": "043b5355-8ecc-48bb-ab6e-16a256521518",
   "metadata": {},
   "source": [
    "Some of the popular languages that Data Scientists use are:\n",
    "1. RStudio\n",
    "2. Python\n",
    "3. C++"
   ]
  },
  {
   "cell_type": "markdown",
   "id": "0abaebd8-6414-4232-af73-5414fb179a73",
   "metadata": {},
   "source": [
    "Some of the commonly used libraries used by Data Scientists include:\n",
    "1. ggplot\n",
    "2. plotly\n",
    "3. Pandas"
   ]
  },
  {
   "cell_type": "markdown",
   "id": "91fbe35c-71f4-4056-86ba-83653478a7b9",
   "metadata": {},
   "source": [
    "| Data Science Tools |\n",
    "| ----- |\n",
    "| VSCode |\n",
    "| Jupyter Notebook |\n",
    "| Matplotlib |"
   ]
  },
  {
   "cell_type": "markdown",
   "id": "4f9264c3-7107-44b3-9644-28ff4339ce8a",
   "metadata": {},
   "source": [
    "### Below are a few examples of evaluating arithmetic expressions in Python."
   ]
  },
  {
   "cell_type": "code",
   "execution_count": 1,
   "id": "78e02454-2998-4e98-9ae5-e4edcf29eb83",
   "metadata": {},
   "outputs": [
    {
     "data": {
      "text/plain": [
       "17"
      ]
     },
     "execution_count": 1,
     "metadata": {},
     "output_type": "execute_result"
    }
   ],
   "source": [
    "#This a simple arithmetic expression to mutiply then add integers\n",
    "(3*4)+5"
   ]
  },
  {
   "cell_type": "code",
   "execution_count": 7,
   "id": "989a3997-2ac5-45a4-a23c-f0cc69cb71bd",
   "metadata": {},
   "outputs": [
    {
     "data": {
      "text/plain": [
       "3.3333333333333335"
      ]
     },
     "execution_count": 7,
     "metadata": {},
     "output_type": "execute_result"
    }
   ],
   "source": [
    "#This will convert 200 minutes to hours by diving by 60\n",
    "minutes = 200\n",
    "hours = minutes/60\n",
    "hours"
   ]
  },
  {
   "cell_type": "markdown",
   "id": "807c6570-a581-4dc7-b66a-b12b959d5f5f",
   "metadata": {},
   "source": [
    "__Objectives:__\n",
    "- List popular languages for data science\n",
    "- Do arithmetic\n",
    "- Learn commonly used libraries for Data Scientists"
   ]
  },
  {
   "cell_type": "markdown",
   "id": "64df10e7-6cb8-4d5a-9022-6d6b1ec9355d",
   "metadata": {},
   "source": [
    "## Author\n",
    "Lena Hur"
   ]
  },
  {
   "cell_type": "code",
   "execution_count": null,
   "id": "f12d0450-0aa7-46da-b607-69824829c724",
   "metadata": {},
   "outputs": [],
   "source": []
  }
 ],
 "metadata": {
  "kernelspec": {
   "display_name": "Python [conda env:base] *",
   "language": "python",
   "name": "conda-base-py"
  },
  "language_info": {
   "codemirror_mode": {
    "name": "ipython",
    "version": 3
   },
   "file_extension": ".py",
   "mimetype": "text/x-python",
   "name": "python",
   "nbconvert_exporter": "python",
   "pygments_lexer": "ipython3",
   "version": "3.13.5"
  }
 },
 "nbformat": 4,
 "nbformat_minor": 5
}
